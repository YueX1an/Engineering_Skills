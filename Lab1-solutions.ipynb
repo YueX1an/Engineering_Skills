{
 "cells": [
  {
   "cell_type": "markdown",
   "metadata": {},
   "source": [
    "### ENG5322 Computer programming: Lab 1 solutions"
   ]
  },
  {
   "cell_type": "markdown",
   "metadata": {},
   "source": [
    "### Exercise 1.1"
   ]
  },
  {
   "cell_type": "markdown",
   "metadata": {},
   "source": [
    "Define three string variables with values 'today', 'is' and 'Friday'. Print out each value.\n",
    "Define a new variable which concatenates (i.e. adds) all three strings and print this out"
   ]
  },
  {
   "cell_type": "code",
   "execution_count": 1,
   "metadata": {},
   "outputs": [
    {
     "name": "stdout",
     "output_type": "stream",
     "text": [
      "today is Friday\n"
     ]
    }
   ],
   "source": [
    "string1 = 'today '\n",
    "string2 = 'is '\n",
    "string3 = 'Friday'\n",
    "total = string1 + string2 + string3\n",
    "\n",
    "print (total)"
   ]
  },
  {
   "cell_type": "markdown",
   "metadata": {},
   "source": [
    "### Exercise 1.2"
   ]
  },
  {
   "cell_type": "markdown",
   "metadata": {},
   "source": [
    "Define a string variable with some random text. Output the value of this string to the\n",
    "screen in a format such as ’My string value is: [your value here]’. Check the lecture notes\n",
    "for how to do this."
   ]
  },
  {
   "cell_type": "code",
   "execution_count": 1,
   "metadata": {},
   "outputs": [
    {
     "name": "stdout",
     "output_type": "stream",
     "text": [
      "The output of my text is some random text\n"
     ]
    }
   ],
   "source": [
    "mystring = 'some random text'\n",
    "\n",
    "print ('The output of my text is {}'.format(mystring))"
   ]
  },
  {
   "cell_type": "markdown",
   "metadata": {},
   "source": [
    "### Exercise 1.3"
   ]
  },
  {
   "cell_type": "markdown",
   "metadata": {},
   "source": [
    "Define three strings with whatever text you wish. Output the value of all three strings in\n",
    "single formatted line like e.g. ’The value of my three strings are: [first string], [second\n",
    "string], [third string]’."
   ]
  },
  {
   "cell_type": "code",
   "execution_count": 2,
   "metadata": {},
   "outputs": [
    {
     "name": "stdout",
     "output_type": "stream",
     "text": [
      "My statement: I think I  have something  to say\n"
     ]
    }
   ],
   "source": [
    "string1 = 'I think I '\n",
    "string2 = 'have something '\n",
    "string3 = 'to say'\n",
    "\n",
    "print ('My statement: {} {} {}'.format(string1, string2, string3))"
   ]
  },
  {
   "cell_type": "markdown",
   "metadata": {},
   "source": [
    "## Section 2: Integers"
   ]
  },
  {
   "cell_type": "markdown",
   "metadata": {},
   "source": [
    "### Exercise 2.1"
   ]
  },
  {
   "cell_type": "markdown",
   "metadata": {},
   "source": [
    "Print the output of 10/3 for both the case where the exact answer (i.e. 3.333) is output and also the case where the answer is rounded down the nearest integer."
   ]
  },
  {
   "cell_type": "code",
   "execution_count": 22,
   "metadata": {},
   "outputs": [
    {
     "name": "stdout",
     "output_type": "stream",
     "text": [
      "3.3333333333333335\n",
      "3\n"
     ]
    }
   ],
   "source": [
    "n1 = 10 / 3\n",
    "print(n1)\n",
    "\n",
    "n2 = 10 // 3\n",
    "print(n2)"
   ]
  },
  {
   "cell_type": "markdown",
   "metadata": {},
   "source": [
    "This is important since we might expect an answer which is able to represent decimal places, but in fact we get an output that rounds our answer down. "
   ]
  },
  {
   "cell_type": "markdown",
   "metadata": {},
   "source": [
    "### Exercise 2.2"
   ]
  },
  {
   "cell_type": "markdown",
   "metadata": {},
   "source": [
    "Print the remainder of the integer division 99/10 using the operator %"
   ]
  },
  {
   "cell_type": "code",
   "execution_count": 3,
   "metadata": {},
   "outputs": [
    {
     "name": "stdout",
     "output_type": "stream",
     "text": [
      "The remainder is equal to 9\n"
     ]
    }
   ],
   "source": [
    "remainder = 99 % 10\n",
    "\n",
    "print ('The remainder is equal to {}'.format(remainder))"
   ]
  },
  {
   "cell_type": "markdown",
   "metadata": {},
   "source": [
    "### Exercise 2.3"
   ]
  },
  {
   "cell_type": "markdown",
   "metadata": {},
   "source": [
    "You have a lecture hall with 23 rows of seats with 13 seats in each row. Use the\n",
    "% operator to output the number of students who have no seats if we have a class of 312."
   ]
  },
  {
   "cell_type": "code",
   "execution_count": 5,
   "metadata": {},
   "outputs": [
    {
     "name": "stdout",
     "output_type": "stream",
     "text": [
      " The number of students who have no seats is 13\n"
     ]
    }
   ],
   "source": [
    "nrows = 23\n",
    "seats_per_row = 13\n",
    "total_seats = nrows * seats_per_row\n",
    "\n",
    "nstudents = 312\n",
    "\n",
    "noseats = nstudents % total_seats\n",
    "\n",
    "print (' The number of students who have no seats is {}'.format(noseats))"
   ]
  },
  {
   "cell_type": "markdown",
   "metadata": {},
   "source": [
    "### Exercise 2.4"
   ]
  },
  {
   "cell_type": "markdown",
   "metadata": {},
   "source": [
    "Now we have a class of 237. With the same number of seats in each row, print the number\n",
    "of full rows and remainder of students in the last remaining row."
   ]
  },
  {
   "cell_type": "code",
   "execution_count": 6,
   "metadata": {},
   "outputs": [
    {
     "name": "stdout",
     "output_type": "stream",
     "text": [
      "We have 18 full rows and 3 students in the last row\n"
     ]
    }
   ],
   "source": [
    "nstudents = 237\n",
    "nseats_per_row = 13\n",
    "\n",
    "full_rows = nstudents // nseats_per_row\n",
    "lastrowcount = nstudents % nseats_per_row\n",
    "\n",
    "print ('We have {} full rows and {} students in the last row'.format(full_rows, lastrowcount))"
   ]
  },
  {
   "cell_type": "markdown",
   "metadata": {},
   "source": [
    "## Section 3: Floating point numbers"
   ]
  },
  {
   "cell_type": "markdown",
   "metadata": {},
   "source": [
    "### Exercise 3.1"
   ]
  },
  {
   "cell_type": "markdown",
   "metadata": {},
   "source": [
    "Define a variable $x$ with value 1.4142. Print the output of $x^2$ , $x^3$ , $x^{99}$ . Perform the same\n",
    "operations but now with $x = −1.4142$."
   ]
  },
  {
   "cell_type": "code",
   "execution_count": 8,
   "metadata": {},
   "outputs": [
    {
     "name": "stdout",
     "output_type": "stream",
     "text": [
      "1.9999616399999998\n",
      "2.8283457512879995\n",
      "795375955350002.2\n",
      "1.9999616399999998\n",
      "-2.8283457512879995\n",
      "-795375955350002.2\n"
     ]
    }
   ],
   "source": [
    "x = 1.4142\n",
    "print (x**2)\n",
    "print (x**3)\n",
    "print (x**99)\n",
    "\n",
    "x = -1.4142\n",
    "print (x**2)\n",
    "print (x**3)\n",
    "print (x**99)"
   ]
  },
  {
   "cell_type": "markdown",
   "metadata": {},
   "source": [
    "### Exercise 3.2"
   ]
  },
  {
   "cell_type": "markdown",
   "metadata": {},
   "source": [
    "Define two variables b and d representing the breadth and depth of a rectangular cross\n",
    "section and assign random (positive values). Calculate the second moment of area and\n",
    "print the output (remembering $I = \\frac{bd^3}{12}$ for a rectangular section)."
   ]
  },
  {
   "cell_type": "code",
   "execution_count": 7,
   "metadata": {},
   "outputs": [
    {
     "name": "stdout",
     "output_type": "stream",
     "text": [
      "Second moment of area = 225000000.0 mm^4\n"
     ]
    }
   ],
   "source": [
    "b = 100.0 # breadth in mm\n",
    "d = 300.0 # depth in mm\n",
    "\n",
    "I = b * d**3 / 12.0\n",
    "\n",
    "print ('Second moment of area = {} mm^4'.format(I))"
   ]
  },
  {
   "cell_type": "markdown",
   "metadata": {},
   "source": [
    "### Exercise 3.3"
   ]
  },
  {
   "cell_type": "markdown",
   "metadata": {},
   "source": [
    "Define a variable $r$ with an arbitrary value and a variable pi with the value 3.14159.\n",
    "Calculate the area of a sphere of radius $r$ using these variables. Print this value to the\n",
    "screen in a nice format. (N.B. the area of sphere is given by $4\\pi r^2$ )"
   ]
  },
  {
   "cell_type": "code",
   "execution_count": 9,
   "metadata": {},
   "outputs": [
    {
     "name": "stdout",
     "output_type": "stream",
     "text": [
      "Area of sphere with radius 10.0 is equal to 1256.636\n"
     ]
    }
   ],
   "source": [
    "r = 10.0\n",
    "pi = 3.14159\n",
    "\n",
    "area = 4.0 * pi * r**2\n",
    "\n",
    "print ('Area of sphere with radius {} is equal to {}'.format(r, area))"
   ]
  },
  {
   "cell_type": "markdown",
   "metadata": {},
   "source": [
    "## Section 4: Beam problem"
   ]
  },
  {
   "cell_type": "markdown",
   "metadata": {},
   "source": [
    "### Exercise 4.1"
   ]
  },
  {
   "cell_type": "markdown",
   "metadata": {},
   "source": [
    "I want you to find the maximum bending stress for a simply supported beam with a point load in the middle. The beam is comprised of an I-beam with the following dimensions:"
   ]
  },
  {
   "cell_type": "markdown",
   "metadata": {},
   "source": [
    "<img src='ibeam.png'>"
   ]
  },
  {
   "cell_type": "markdown",
   "metadata": {},
   "source": [
    "Write code that defines variables corresponding to the dimensions of this section and then calculate the second moment of area of the section using these variables. You will need to use the parallel axis theorem."
   ]
  },
  {
   "cell_type": "markdown",
   "metadata": {},
   "source": [
    "Remember, the parallel axis theorem for a rectangular section is given by:"
   ]
  },
  {
   "cell_type": "markdown",
   "metadata": {},
   "source": [
    "$I = \\frac{bd^3}{12} + A y^2$"
   ]
  },
  {
   "cell_type": "markdown",
   "metadata": {},
   "source": [
    "where $A$ is the area of the relevant section and $y$ is the distance of the section from the neutral axis."
   ]
  },
  {
   "cell_type": "code",
   "execution_count": 13,
   "metadata": {},
   "outputs": [
    {
     "name": "stdout",
     "output_type": "stream",
     "text": [
      "Second moment of area of I-beam is 1432916.67mm^4\n"
     ]
    }
   ],
   "source": [
    "d = 100.0\n",
    "b = 50.0\n",
    "t = 5.0\n",
    "\n",
    "d_inner = d - 2.0 * t # the 'depth' of the middle section\n",
    "\n",
    "Imiddle = t * d_inner**3 / 12.0 # Second moment of area of middle section (no need to multiply this by Ay^2)\n",
    "Iouter = b * t**3 / 12.0        # Second moment of area of outer sections (both the same value)\n",
    "y = (d - t) / 2.0               # Distance from N/A to centroid of outer sections\n",
    "\n",
    "Itotal = Imiddle + 2.0 * (Iouter + b * t * y**2) # Total second moment of area\n",
    "print ('Second moment of area of I-beam is {:.2f}mm^4'.format(Itotal))  # Notice the .2f to reduce to 2 decimal places"
   ]
  },
  {
   "cell_type": "markdown",
   "metadata": {},
   "source": [
    "Now calculate the maximum bending stress in the beam using the relationship $\\sigma = \\frac{M y}{I}$ where $\\sigma$ is the bending stress, $M$ is the bending moment, $y$ is the distance from the neutral axis and $I$ is the second moment of area (which you should have already calculated).  "
   ]
  },
  {
   "cell_type": "code",
   "execution_count": 14,
   "metadata": {},
   "outputs": [
    {
     "name": "stdout",
     "output_type": "stream",
     "text": [
      "bending stress = 872.35 MPa (N/mm^2)\n"
     ]
    }
   ],
   "source": [
    "W = 10000 # 10000 N\n",
    "L = 10.0 # 10.0m\n",
    "M = W * L * 1.0e3 / 4.0 # Bending moment at midpoint for point load on a simply supported beam (Nmm)\n",
    "\n",
    "max_y = d / 2.0 # Distance from N/A to outermost fibres\n",
    "stress = M * max_y / Itotal # Bending stress\n",
    "print ('bending stress = {:.2f} MPa (N/mm^2)'.format(stress))"
   ]
  },
  {
   "cell_type": "markdown",
   "metadata": {},
   "source": [
    "(Note that this is an unrealistic stress for most materials since, for example, the yield stress of steel is ~220MPa)"
   ]
  },
  {
   "cell_type": "markdown",
   "metadata": {},
   "source": [
    "### Exercise 4.2"
   ]
  },
  {
   "cell_type": "markdown",
   "metadata": {},
   "source": [
    "Perform the same as exercise 4.1, but now use a hollow circular section with a simply supported beam with a uniformly distributed load."
   ]
  },
  {
   "cell_type": "code",
   "execution_count": 15,
   "metadata": {},
   "outputs": [
    {
     "name": "stdout",
     "output_type": "stream",
     "text": [
      "Max. bending stress in hollow-circular section is 2961.89 MPa\n"
     ]
    }
   ],
   "source": [
    "d_outer = 100.0 # outer diameter (mm)\n",
    "d_inner = 90.0  # inner diameter (mm)\n",
    "length = 20.0 # length of beam (m)\n",
    "w = 2.0 * 1.0e3 # 2kN/m u.d.l. (converted to N/m)\n",
    "\n",
    "Itube = pi * (d_outer**4 - d_inner**4) / 64.0 # second moment of area (mm^4)\n",
    "max_y = d_outer / 2.0                         # distance from N/A to outermost fibre (mm)\n",
    "max_bm = w * length**2 / 8.0                  # max. bending moment (Nm)\n",
    "max_stress = max_bm * 1.0e3 * max_y / Itube           # max. stress (MPa or N/mm^2)\n",
    "\n",
    "print ('Max. bending stress in hollow-circular section is {:.2f} MPa'.format(max_stress))\n"
   ]
  },
  {
   "cell_type": "markdown",
   "metadata": {},
   "source": [
    "Once again, this is a very unrealistic bending stress which would far exceed most engineering materials. Obviously a much larger section size/reduced span length would be required."
   ]
  },
  {
   "cell_type": "code",
   "execution_count": 2,
   "metadata": {},
   "outputs": [
    {
     "name": "stdout",
     "output_type": "stream",
     "text": [
      "0.001\n"
     ]
    }
   ],
   "source": [
    "print(1.0e-3)\n"
   ]
  },
  {
   "cell_type": "code",
   "execution_count": null,
   "metadata": {},
   "outputs": [],
   "source": []
  }
 ],
 "metadata": {
  "anaconda-cloud": {},
  "kernelspec": {
   "display_name": "Python 3",
   "language": "python",
   "name": "python3"
  },
  "language_info": {
   "codemirror_mode": {
    "name": "ipython",
    "version": 3
   },
   "file_extension": ".py",
   "mimetype": "text/x-python",
   "name": "python",
   "nbconvert_exporter": "python",
   "pygments_lexer": "ipython3",
   "version": "3.8.8"
  }
 },
 "nbformat": 4,
 "nbformat_minor": 1
}
