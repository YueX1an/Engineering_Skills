{
 "cells": [
  {
   "attachments": {},
   "cell_type": "markdown",
   "metadata": {},
   "source": [
    "# Introduction to computer programming: Lab 2"
   ]
  },
  {
   "attachments": {},
   "cell_type": "markdown",
   "metadata": {},
   "source": [
    "Please complete the following exercises during the computer lab."
   ]
  },
  {
   "attachments": {},
   "cell_type": "markdown",
   "metadata": {
    "jp-MarkdownHeadingCollapsed": true,
    "tags": []
   },
   "source": [
    "## Section 1: Lists"
   ]
  },
  {
   "attachments": {},
   "cell_type": "markdown",
   "metadata": {},
   "source": [
    "### Exercise 1.1"
   ]
  },
  {
   "attachments": {},
   "cell_type": "markdown",
   "metadata": {},
   "source": [
    "Write a list of integers from 0 to 1000. Remove the value of 100. Insert the value 23 at\n",
    "index 657. Append 1001 to the end."
   ]
  },
  {
   "cell_type": "code",
   "execution_count": 1,
   "metadata": {},
   "outputs": [
    {
     "name": "stdout",
     "output_type": "stream",
     "text": [
      "[0, 1, 2, 3, 4, 5, 6, 7, 8, 9, 10, 11, 12, 13, 14, 15, 16, 17, 18, 19, 20, 21, 22, 23, 24, 25, 26, 27, 28, 29, 30, 31, 32, 33, 34, 35, 36, 37, 38, 39, 40, 41, 42, 43, 44, 45, 46, 47, 48, 49, 50, 51, 52, 53, 54, 55, 56, 57, 58, 59, 60, 61, 62, 63, 64, 65, 66, 67, 68, 69, 70, 71, 72, 73, 74, 75, 76, 77, 78, 79, 80, 81, 82, 83, 84, 85, 86, 87, 88, 89, 90, 91, 92, 93, 94, 95, 96, 97, 98, 99, 101, 102, 103, 104, 105, 106, 107, 108, 109, 110, 111, 112, 113, 114, 115, 116, 117, 118, 119, 120, 121, 122, 123, 124, 125, 126, 127, 128, 129, 130, 131, 132, 133, 134, 135, 136, 137, 138, 139, 140, 141, 142, 143, 144, 145, 146, 147, 148, 149, 150, 151, 152, 153, 154, 155, 156, 157, 158, 159, 160, 161, 162, 163, 164, 165, 166, 167, 168, 169, 170, 171, 172, 173, 174, 175, 176, 177, 178, 179, 180, 181, 182, 183, 184, 185, 186, 187, 188, 189, 190, 191, 192, 193, 194, 195, 196, 197, 198, 199, 200, 201, 202, 203, 204, 205, 206, 207, 208, 209, 210, 211, 212, 213, 214, 215, 216, 217, 218, 219, 220, 221, 222, 223, 224, 225, 226, 227, 228, 229, 230, 231, 232, 233, 234, 235, 236, 237, 238, 239, 240, 241, 242, 243, 244, 245, 246, 247, 248, 249, 250, 251, 252, 253, 254, 255, 256, 257, 258, 259, 260, 261, 262, 263, 264, 265, 266, 267, 268, 269, 270, 271, 272, 273, 274, 275, 276, 277, 278, 279, 280, 281, 282, 283, 284, 285, 286, 287, 288, 289, 290, 291, 292, 293, 294, 295, 296, 297, 298, 299, 300, 301, 302, 303, 304, 305, 306, 307, 308, 309, 310, 311, 312, 313, 314, 315, 316, 317, 318, 319, 320, 321, 322, 323, 324, 325, 326, 327, 328, 329, 330, 331, 332, 333, 334, 335, 336, 337, 338, 339, 340, 341, 342, 343, 344, 345, 346, 347, 348, 349, 350, 351, 352, 353, 354, 355, 356, 357, 358, 359, 360, 361, 362, 363, 364, 365, 366, 367, 368, 369, 370, 371, 372, 373, 374, 375, 376, 377, 378, 379, 380, 381, 382, 383, 384, 385, 386, 387, 388, 389, 390, 391, 392, 393, 394, 395, 396, 397, 398, 399, 400, 401, 402, 403, 404, 405, 406, 407, 408, 409, 410, 411, 412, 413, 414, 415, 416, 417, 418, 419, 420, 421, 422, 423, 424, 425, 426, 427, 428, 429, 430, 431, 432, 433, 434, 435, 436, 437, 438, 439, 440, 441, 442, 443, 444, 445, 446, 447, 448, 449, 450, 451, 452, 453, 454, 455, 456, 457, 458, 459, 460, 461, 462, 463, 464, 465, 466, 467, 468, 469, 470, 471, 472, 473, 474, 475, 476, 477, 478, 479, 480, 481, 482, 483, 484, 485, 486, 487, 488, 489, 490, 491, 492, 493, 494, 495, 496, 497, 498, 499, 500, 501, 502, 503, 504, 505, 506, 507, 508, 509, 510, 511, 512, 513, 514, 515, 516, 517, 518, 519, 520, 521, 522, 523, 524, 525, 526, 527, 528, 529, 530, 531, 532, 533, 534, 535, 536, 537, 538, 539, 540, 541, 542, 543, 544, 545, 546, 547, 548, 549, 550, 551, 552, 553, 554, 555, 556, 557, 558, 559, 560, 561, 562, 563, 564, 565, 566, 567, 568, 569, 570, 571, 572, 573, 574, 575, 576, 577, 578, 579, 580, 581, 582, 583, 584, 585, 586, 587, 588, 589, 590, 591, 592, 593, 594, 595, 596, 597, 598, 599, 600, 601, 602, 603, 604, 605, 606, 607, 608, 609, 610, 611, 612, 613, 614, 615, 616, 617, 618, 619, 620, 621, 622, 623, 624, 625, 626, 627, 628, 629, 630, 631, 632, 633, 634, 635, 636, 637, 638, 639, 640, 641, 642, 643, 644, 645, 646, 647, 648, 649, 650, 651, 652, 653, 654, 655, 656, 657, 23, 658, 659, 660, 661, 662, 663, 664, 665, 666, 667, 668, 669, 670, 671, 672, 673, 674, 675, 676, 677, 678, 679, 680, 681, 682, 683, 684, 685, 686, 687, 688, 689, 690, 691, 692, 693, 694, 695, 696, 697, 698, 699, 700, 701, 702, 703, 704, 705, 706, 707, 708, 709, 710, 711, 712, 713, 714, 715, 716, 717, 718, 719, 720, 721, 722, 723, 724, 725, 726, 727, 728, 729, 730, 731, 732, 733, 734, 735, 736, 737, 738, 739, 740, 741, 742, 743, 744, 745, 746, 747, 748, 749, 750, 751, 752, 753, 754, 755, 756, 757, 758, 759, 760, 761, 762, 763, 764, 765, 766, 767, 768, 769, 770, 771, 772, 773, 774, 775, 776, 777, 778, 779, 780, 781, 782, 783, 784, 785, 786, 787, 788, 789, 790, 791, 792, 793, 794, 795, 796, 797, 798, 799, 800, 801, 802, 803, 804, 805, 806, 807, 808, 809, 810, 811, 812, 813, 814, 815, 816, 817, 818, 819, 820, 821, 822, 823, 824, 825, 826, 827, 828, 829, 830, 831, 832, 833, 834, 835, 836, 837, 838, 839, 840, 841, 842, 843, 844, 845, 846, 847, 848, 849, 850, 851, 852, 853, 854, 855, 856, 857, 858, 859, 860, 861, 862, 863, 864, 865, 866, 867, 868, 869, 870, 871, 872, 873, 874, 875, 876, 877, 878, 879, 880, 881, 882, 883, 884, 885, 886, 887, 888, 889, 890, 891, 892, 893, 894, 895, 896, 897, 898, 899, 900, 901, 902, 903, 904, 905, 906, 907, 908, 909, 910, 911, 912, 913, 914, 915, 916, 917, 918, 919, 920, 921, 922, 923, 924, 925, 926, 927, 928, 929, 930, 931, 932, 933, 934, 935, 936, 937, 938, 939, 940, 941, 942, 943, 944, 945, 946, 947, 948, 949, 950, 951, 952, 953, 954, 955, 956, 957, 958, 959, 960, 961, 962, 963, 964, 965, 966, 967, 968, 969, 970, 971, 972, 973, 974, 975, 976, 977, 978, 979, 980, 981, 982, 983, 984, 985, 986, 987, 988, 989, 990, 991, 992, 993, 994, 995, 996, 997, 998, 999, 1000, 1001]\n"
     ]
    }
   ],
   "source": [
    "my_list = list(range(1001))\n",
    "\n",
    "my_list.remove(100)\n",
    "\n",
    "my_list.insert(657,23)\n",
    "\n",
    "my_list.append(1001)\n",
    "\n",
    "print(my_list)\n"
   ]
  },
  {
   "attachments": {},
   "cell_type": "markdown",
   "metadata": {},
   "source": [
    "### Exercise 1.2"
   ]
  },
  {
   "attachments": {},
   "cell_type": "markdown",
   "metadata": {},
   "source": [
    "Write a list with 10 random floating point numbers of your choice. Pass this list to a function that\n",
    "computes the cube of their values and then sort this list."
   ]
  },
  {
   "cell_type": "code",
   "execution_count": 3,
   "metadata": {
    "tags": []
   },
   "outputs": [
    {
     "name": "stdout",
     "output_type": "stream",
     "text": [
      "[3.689618326900525, 4.284441832067941, 6.458770622037449, 69.51533542415089, 105.08450441016417, 112.78245219359032, 127.04491087854485, 149.73320615136691, 421.2828477992045, 660.8937007286562]\n"
     ]
    }
   ],
   "source": [
    "import random\n",
    "\n",
    "def cube_and_sort(numbers):\n",
    "    \n",
    "    cubes = [num ** 3 for num in numbers]\n",
    "    \n",
    "    cubes.sort()\n",
    "    \n",
    "    return cubes\n",
    "\n",
    "random_numbers = [random.uniform(1, 10) for _ in range(10)]\n",
    "\n",
    "result = cube_and_sort(random_numbers)\n",
    "\n",
    "print(result)\n",
    "    \n",
    "    "
   ]
  },
  {
   "attachments": {},
   "cell_type": "markdown",
   "metadata": {
    "tags": []
   },
   "source": [
    "### Exercise 1.3"
   ]
  },
  {
   "attachments": {},
   "cell_type": "markdown",
   "metadata": {},
   "source": [
    "Write a while loop that allows a user to fill up a list with floating point values. When the\n",
    "user types ’stop’, sort this list and print out the absolute values in the list (i.e. $|x|$)"
   ]
  },
  {
   "cell_type": "code",
   "execution_count": null,
   "metadata": {
    "tags": []
   },
   "outputs": [
    {
     "name": "stdout",
     "output_type": "stream",
     "text": [
      "Enter a floating point value (type 'stop' to finish):  2.7\n",
      "Enter a floating point value (type 'stop' to finish):  5.9\n",
      "Enter a floating point value (type 'stop' to finish):  6.9\n",
      "Enter a floating point value (type 'stop' to finish):  stop\n"
     ]
    },
    {
     "name": "stdout",
     "output_type": "stream",
     "text": [
      "Sorted list of absolute values: [2.7, 5.9, 6.9]\n"
     ]
    }
   ],
   "source": [
    "float_list = []\n",
    "\n",
    "while True:\n",
    "    \n",
    "    user_input = input(\"Enter a floating point value (type 'stop' to finish): \")\n",
    "    \n",
    "    # Check if the user wants to stop\n",
    "    \n",
    "    if user_input.lower() == 'stop':\n",
    "        break\n",
    "        \n",
    "    try :\n",
    "        \n",
    "        float_value = float(user_input)\n",
    "        float_list.append(float_value)\n",
    "        \n",
    "    except ValueError:\n",
    "        print(\"Invalid input, please enter a valid floating point number.\")\n",
    "        \n",
    "float_list.sort()\n",
    "\n",
    "absolute_values = [abs(x) for x in float_list]\n",
    "print(\"Sorted list of absolute values:\", absolute_values)"
   ]
  },
  {
   "attachments": {},
   "cell_type": "markdown",
   "metadata": {
    "jp-MarkdownHeadingCollapsed": true,
    "tags": []
   },
   "source": [
    "## Section 2: Dictionaries"
   ]
  },
  {
   "attachments": {},
   "cell_type": "markdown",
   "metadata": {},
   "source": [
    "### Exercise 2.1"
   ]
  },
  {
   "attachments": {},
   "cell_type": "markdown",
   "metadata": {},
   "source": [
    "Using the following dictionary that stores river level data, write code that allows the user to input a river name and then output the average, minimum and maximum values for the relevant river name entered."
   ]
  },
  {
   "attachments": {},
   "cell_type": "markdown",
   "metadata": {},
   "source": [
    "I have included some examples of how to use the `mean()`, `min()` and `max()` functions from the numpy library."
   ]
  },
  {
   "cell_type": "code",
   "execution_count": null,
   "metadata": {
    "tags": []
   },
   "outputs": [
    {
     "name": "stdout",
     "output_type": "stream",
     "text": [
      "Enter a river name:  dee\n"
     ]
    },
    {
     "name": "stdout",
     "output_type": "stream",
     "text": [
      "\n",
      "Statistics for Dee River:\n",
      "Average Level: 5.60\n",
      "Minimum Level: 2.3\n",
      "Maximum Level: 7.8\n"
     ]
    }
   ],
   "source": [
    "import numpy as np\n",
    "\n",
    "# here are some example of how to use the mean(), min() and max() functions\n",
    "example_list = [1.2, 3.4, 5.6, 7.8]\n",
    "maximum = np.max(example_list) \n",
    "minimum = np.min(example_list)\n",
    "mean = np.mean(example_list)\n",
    "\n",
    "# dictionary of river level data\n",
    "river_data = { 'dee' : [2.3, 4.5, 6.7, 8.9],\n",
    "                 'thames' : [3.2, 4.5, 6.2, 1.2],\n",
    "                 'clyde' : [3.2, 4.5, 6.2, 1.2, 4.6, 7.8, 9.0],\n",
    "                 'severn' : [3.2, 2.4, 5.6, 6.7, 7.6, 6.7, 6.7, 2.1]}\n",
    "\n",
    "def calculate_states(river_name):\n",
    "    \n",
    "    if river_name in river_data:\n",
    "        river_values = river_data[river_name]\n",
    "        \n",
    "        average = np.mean(river_values)\n",
    "        minimum = np.min(river_values)\n",
    "        maximu = np.max(river_values)\n",
    "        \n",
    "        print(f\"\\nStatistics for {river_name.capitalize()} River:\")\n",
    "        print(f\"Average Level: {average:.2f}\")\n",
    "        print(f\"Minimum Level: {minimum}\")\n",
    "        print(f\"Maximum Level: {maximum}\")\n",
    "        \n",
    "    else:\n",
    "        print(f\"\\nRiver '{river_name}' not found in the data.\")\n",
    "        \n",
    "user_input = input(\"Enter a river name: \")\n",
    "\n",
    "calculate_states(user_input.lower())\n",
    "\n"
   ]
  },
  {
   "attachments": {},
   "cell_type": "markdown",
   "metadata": {},
   "source": [
    "### Exercise 2.2"
   ]
  },
  {
   "attachments": {},
   "cell_type": "markdown",
   "metadata": {},
   "source": [
    "Using the same dictionary of river level data as in the previous exercise, write some code that allows the user to first enter a string that specifies a new river name. \n",
    "\n",
    "Next, allow the user to enter river level readings adding these to a list until the user writes 'done'.\n",
    "\n",
    "Add this new river level data to `river_dict`."
   ]
  },
  {
   "cell_type": "code",
   "execution_count": null,
   "metadata": {
    "tags": []
   },
   "outputs": [
    {
     "name": "stdout",
     "output_type": "stream",
     "text": [
      "Enter a new river name:  Tail\n",
      "Enter river level reading for Tail (type 'done' to finish):  2\n",
      "Enter river level reading for Tail (type 'done' to finish):  3\n",
      "Enter river level reading for Tail (type 'done' to finish):  2.5\n",
      "Enter river level reading for Tail (type 'done' to finish):  4.8\n",
      "Enter river level reading for Tail (type 'done' to finish):  done\n"
     ]
    },
    {
     "name": "stdout",
     "output_type": "stream",
     "text": [
      "\n",
      "Updated River Data:\n",
      "{'dee': [2.3, 4.5, 6.7, 8.9], 'thames': [3.2, 4.5, 6.2, 1.2], 'clyde': [3.2, 4.5, 6.2, 1.2, 4.6, 7.8, 9.0], 'severn': [3.2, 2.4, 5.6, 6.7, 7.6, 6.7, 6.7, 2.1], 'Tail': [2.0, 3.0, 2.5, 4.8]}\n"
     ]
    }
   ],
   "source": [
    "river_data = {\n",
    "    'dee': [2.3, 4.5, 6.7, 8.9],\n",
    "    'thames': [3.2, 4.5, 6.2, 1.2],\n",
    "    'clyde': [3.2, 4.5, 6.2, 1.2, 4.6, 7.8, 9.0],\n",
    "    'severn': [3.2, 2.4, 5.6, 6.7, 7.6, 6.7, 6.7, 2.1]\n",
    "}\n",
    "\n",
    "new_river_name = input(\"Enter a new river name: \")\n",
    "new_river_data = []\n",
    "\n",
    "while True:\n",
    "    user_input = input(f\"Enter river level reading for {new_river_name} (type 'done' to finish): \")\n",
    "    \n",
    "    if user_input.lower() == 'done':\n",
    "        break\n",
    "        \n",
    "    try:\n",
    "        \n",
    "        float_value = float(user_input)\n",
    "        new_river_data.append(float_value)\n",
    "        \n",
    "    except ValueError:\n",
    "        print(\"Invalid input. Please enter a valid floating point number.\")\n",
    "        \n",
    "river_data[new_river_name] = new_river_data\n",
    "\n",
    "print(\"\\nUpdated River Data:\")\n",
    "print(river_data)"
   ]
  },
  {
   "attachments": {},
   "cell_type": "markdown",
   "metadata": {
    "jp-MarkdownHeadingCollapsed": true,
    "tags": []
   },
   "source": [
    "## Section 3: Plotting"
   ]
  },
  {
   "attachments": {},
   "cell_type": "markdown",
   "metadata": {},
   "source": [
    "### Exercise 3.1"
   ]
  },
  {
   "attachments": {},
   "cell_type": "markdown",
   "metadata": {},
   "source": [
    "Plot the bending moment and shear force diagrams for a cantilever beam subject to a uniformly distributed load. \n",
    "\n",
    "For this particular example you can choose whatever length and load values you wish. \n",
    "\n",
    "**Note:** given a u.d.l. of w (kN/m) imposed on a cantilever beam with length $L$ and a support at its left end, the bending moment is given by:\n",
    "$\\displaystyle M = -\\frac{w}{2}(L-x)^2$ \n",
    "\n",
    "and the shear force is given by:  $\\displaystyle Q = -w(L-x)$ "
   ]
  },
  {
   "cell_type": "code",
   "execution_count": null,
   "metadata": {
    "tags": []
   },
   "outputs": [
    {
     "name": "stderr",
     "output_type": "stream",
     "text": [
      "Matplotlib is building the font cache; this may take a moment.\n"
     ]
    },
    {
     "data": {
      "image/png": "[encoded data removed]",
      "text/plain": [
       "<Figure size 864x432 with 2 Axes>"
      ]
     },
     "metadata": {
      "needs_background": "light"
     },
     "output_type": "display_data"
    }
   ],
   "source": [
    "import numpy as np\n",
    "import matplotlib.pyplot as plt\n",
    "\n",
    "def bending_moment(x, L, w):\n",
    "    return -0.5 * w * (L - x)**2\n",
    "\n",
    "def shear_force(x, L, w):\n",
    "    return -w * (L - x)\n",
    "\n",
    "# Example values\n",
    "L = 5  # Length of the cantilever beam in meters\n",
    "w = 2  # Uniformly distributed load in kN/m\n",
    "\n",
    "# Generate x values (distance along the beam)\n",
    "x_values = np.linspace(0, L, 100)\n",
    "\n",
    "# Calculate bending moment and shear force values for each x\n",
    "moment_values = bending_moment(x_values, L, w)\n",
    "shear_values = shear_force(x_values, L, w)\n",
    "\n",
    "# Plotting the Bending Moment Diagram\n",
    "plt.figure(figsize=(12, 6))\n",
    "plt.subplot(121)\n",
    "plt.plot(x_values, moment_values, label='Bending Moment')\n",
    "plt.xlabel('Distance along the beam (m)')\n",
    "plt.ylabel('Bending Moment (kNm)')\n",
    "plt.title('Bending Moment Diagram')\n",
    "plt.axhline(0, color='black', linewidth=0.8, linestyle='--', label='Zero Moment Line')\n",
    "plt.legend()\n",
    "\n",
    "# Plotting the Shear Force Diagram\n",
    "plt.subplot(122)\n",
    "plt.plot(x_values, shear_values, label='Shear Force')\n",
    "plt.xlabel('Distance along the beam (m)')\n",
    "plt.ylabel('Shear Force (kN)')\n",
    "plt.title('Shear Force Diagram')\n",
    "plt.axhline(0, color='black', linewidth=0.8, linestyle='--', label='Zero Shear Line')\n",
    "plt.legend()\n",
    "\n",
    "plt.tight_layout()\n",
    "plt.show()"
   ]
  },
  {
   "attachments": {},
   "cell_type": "markdown",
   "metadata": {},
   "source": [
    "### Exercise 3.2"
   ]
  },
  {
   "attachments": {},
   "cell_type": "markdown",
   "metadata": {},
   "source": [
    "Using your river level data from Exercise 2.2 above, create a bar chart with the mean values of each river. Label this chart and include an appropriate legend."
   ]
  },
  {
   "cell_type": "code",
   "execution_count": 1,
   "metadata": {
    "collapsed": true,
    "jupyter": {
     "outputs_hidden": true
    }
   },
   "outputs": [
    {
     "data": {
      "image/png": "[encoded data removed]",
      "text/plain": [
       "<Figure size 640x480 with 1 Axes>"
      ]
     },
     "metadata": {},
     "output_type": "display_data"
    }
   ],
   "source": [
    "import matplotlib.pyplot as plt\n",
    "\n",
    "# Dictionary of river level data\n",
    "river_data = {\n",
    "    'dee': [2.3, 4.5, 6.7, 8.9],\n",
    "    'thames': [3.2, 4.5, 6.2, 1.2],\n",
    "    'clyde': [3.2, 4.5, 6.2, 1.2, 4.6, 7.8, 9.0],\n",
    "    'severn': [3.2, 2.4, 5.6, 6.7, 7.6, 6.7, 6.7, 2.1]\n",
    "}\n",
    "\n",
    "# Calculate mean values for each river\n",
    "mean_values = {river: sum(levels) / len(levels) for river, levels in river_data.items()}\n",
    "\n",
    "# Create a bar chart\n",
    "plt.bar(mean_values.keys(), mean_values.values(), color='skyblue', edgecolor='black', label='Mean River Level')\n",
    "\n",
    "# Add labels and title\n",
    "plt.xlabel('River')\n",
    "plt.ylabel('Mean River Level')\n",
    "plt.title('Mean River Level for Each River')\n",
    "\n",
    "# Add legend\n",
    "plt.legend()\n",
    "\n",
    "# Show the plot\n",
    "plt.show()"
   ]
  },
  {
   "attachments": {},
   "cell_type": "markdown",
   "metadata": {},
   "source": [
    "### Exercise 3.3"
   ]
  },
  {
   "attachments": {},
   "cell_type": "markdown",
   "metadata": {},
   "source": [
    "Write code that allows a user to enter a set of numbers corresponding to x and y data values and store each of these in a list. Stop the input for this list when the user types ’done’.\n",
    "\n",
    "Produce a scatter plot of the input data. Hint: the pyplot function you need is scatter().  "
   ]
  },
  {
   "cell_type": "code",
   "execution_count": 2,
   "metadata": {},
   "outputs": [],
   "source": [
    "import matplotlib.pyplot as plt\n",
    "\n",
    "# Initialize empty lists to store x and y data\n",
    "x_values = []\n",
    "y_values = []\n",
    "\n",
    "# User input loop\n",
    "while True:\n",
    "    x_input = input(\"Enter x value (type 'done' to finish): \")\n",
    "    \n",
    "    # Check if the user wants to stop\n",
    "    if x_input.lower() == 'done':\n",
    "        break\n",
    "\n",
    "    try:\n",
    "        # Try to convert the input to a float and add it to the x_values list\n",
    "        x_value = float(x_input)\n",
    "        y_value = float(input(\"Enter corresponding y value: \"))\n",
    "        x_values.append(x_value)\n",
    "        y_values.append(y_value)\n",
    "    except ValueError:\n",
    "        print(\"Invalid input. Please enter a valid number.\")\n",
    "\n",
    "# Create a scatter plot\n",
    "plt.scatter(x_values, y_values, color='red', marker='o', label='Input Data')\n",
    "\n",
    "# Add labels and title\n",
    "plt.xlabel('X Values')\n",
    "plt.ylabel('Y Values')\n",
    "plt.title('Scatter Plot of Input Data')\n",
    "\n",
    "# Add legend\n",
    "plt.legend()\n",
    "\n",
    "# Show the plot\n",
    "plt.show()"
   ]
  },
  {
   "attachments": {},
   "cell_type": "markdown",
   "metadata": {},
   "source": [
    "Last updated by UZI on 14/10/2019"
   ]
  }
 ],
 "metadata": {
  "anaconda-cloud": {},
  "kernelspec": {
   "display_name": "base",
   "language": "python",
   "name": "python3"
  },
  "language_info": {
   "codemirror_mode": {
    "name": "ipython",
    "version": 3
   },
   "file_extension": ".py",
   "mimetype": "text/x-python",
   "name": "python",
   "nbconvert_exporter": "python",
   "pygments_lexer": "ipython3",
   "version": "3.10.9"
  }
 },
 "nbformat": 4,
 "nbformat_minor": 4
}
