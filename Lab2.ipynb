{
 "cells": [
  {
   "cell_type": "markdown",
   "metadata": {},
   "source": [
    "# Introduction to computer programming: Lab 2"
   ]
  },
  {
   "cell_type": "markdown",
   "metadata": {},
   "source": [
    "Please complete the following exercises during the computer lab."
   ]
  },
  {
   "cell_type": "markdown",
   "metadata": {},
   "source": [
    "## Section 1: Lists"
   ]
  },
  {
   "cell_type": "markdown",
   "metadata": {},
   "source": [
    "### Exercise 1.1"
   ]
  },
  {
   "cell_type": "markdown",
   "metadata": {},
   "source": [
    "Write a list of integers from 0 to 1000. Remove the value of 100. Insert the value 23 at\n",
    "index 657. Append 1001 to the end."
   ]
  },
  {
   "cell_type": "code",
   "execution_count": null,
   "metadata": {},
   "outputs": [],
   "source": [
    "\n"
   ]
  },
  {
   "cell_type": "markdown",
   "metadata": {},
   "source": [
    "### Exercise 1.2"
   ]
  },
  {
   "cell_type": "markdown",
   "metadata": {},
   "source": [
    "Write a list with 10 random floating point numbers of your choice. Pass this list to a function that\n",
    "computes the cube of their values and then sort this list."
   ]
  },
  {
   "cell_type": "code",
   "execution_count": 2,
   "metadata": {
    "collapsed": true
   },
   "outputs": [],
   "source": [
    "# Complete your exercise here"
   ]
  },
  {
   "cell_type": "markdown",
   "metadata": {},
   "source": [
    "### Exercise 1.3"
   ]
  },
  {
   "cell_type": "markdown",
   "metadata": {},
   "source": [
    "Write a while loop that allows a user to fill up a list with floating point values. When the\n",
    "user types ’stop’, sort this list and print out the absolute values in the list (i.e. $|x|$)"
   ]
  },
  {
   "cell_type": "code",
   "execution_count": 3,
   "metadata": {
    "collapsed": true
   },
   "outputs": [],
   "source": [
    "# Complete your exercise here"
   ]
  },
  {
   "cell_type": "markdown",
   "metadata": {},
   "source": [
    "## Section 2: Dictionaries"
   ]
  },
  {
   "cell_type": "markdown",
   "metadata": {},
   "source": [
    "### Exercise 2.1"
   ]
  },
  {
   "cell_type": "markdown",
   "metadata": {},
   "source": [
    "Using the following dictionary that stores river level data, write code that allows the user to input a river name and then output the average, minimum and maximum values for the relevant river name entered."
   ]
  },
  {
   "cell_type": "markdown",
   "metadata": {},
   "source": [
    "I have included some examples of how to use the `mean()`, `min()` and `max()` functions from the numpy library."
   ]
  },
  {
   "cell_type": "code",
   "execution_count": 4,
   "metadata": {
    "collapsed": true
   },
   "outputs": [],
   "source": [
    "import numpy as np\n",
    "\n",
    "# here are some example of how to use the mean(), min() and max() functions\n",
    "example_list = [1.2, 3.4, 5.6, 7.8]\n",
    "maximum = np.max(example_list) \n",
    "minimum = np.min(example_list)\n",
    "mean = np.mean(example_list)\n",
    "\n",
    "# dictionary of river level data\n",
    "river_data = { 'dee' : [2.3, 4.5, 6.7, 8.9],\n",
    "                 'thames' : [3.2, 4.5, 6.2, 1.2],\n",
    "                 'clyde' : [3.2, 4.5, 6.2, 1.2, 4.6, 7.8, 9.0],\n",
    "                 'severn' : [3.2, 2.4, 5.6, 6.7, 7.6, 6.7, 6.7, 2.1]}\n",
    "\n",
    "# Complete your exercise here"
   ]
  },
  {
   "cell_type": "markdown",
   "metadata": {},
   "source": [
    "### Exercise 2.2"
   ]
  },
  {
   "cell_type": "markdown",
   "metadata": {},
   "source": [
    "Using the same dictionary of river level data as in the previous exercise, write some code that allows the user to first enter a string that specifies a new river name. \n",
    "\n",
    "Next, allow the user to enter river level readings adding these to a list until the user writes 'done'.\n",
    "\n",
    "Add this new river level data to `river_dict`."
   ]
  },
  {
   "cell_type": "code",
   "execution_count": 5,
   "metadata": {
    "collapsed": true
   },
   "outputs": [],
   "source": [
    "# Complete your exercise here"
   ]
  },
  {
   "cell_type": "markdown",
   "metadata": {},
   "source": [
    "## Section 3: Plotting"
   ]
  },
  {
   "cell_type": "markdown",
   "metadata": {},
   "source": [
    "### Exercise 3.1"
   ]
  },
  {
   "cell_type": "markdown",
   "metadata": {},
   "source": [
    "Plot the bending moment and shear force diagrams for a cantilever beam subject to a uniformly distributed load. \n",
    "\n",
    "For this particular example you can choose whatever length and load values you wish. \n",
    "\n",
    "**Note:** given a u.d.l. of w (kN/m) imposed on a cantilever beam with length $L$ and a support at its left end, the bending moment is given by:\n",
    "$\\displaystyle M = -\\frac{w}{2}(L-x)^2$ \n",
    "\n",
    "and the shear force is given by:  $\\displaystyle Q = -w(L-x)$ "
   ]
  },
  {
   "cell_type": "code",
   "execution_count": 6,
   "metadata": {
    "collapsed": true
   },
   "outputs": [],
   "source": [
    "# complete your exercise here"
   ]
  },
  {
   "cell_type": "markdown",
   "metadata": {},
   "source": [
    "### Exercise 3.2"
   ]
  },
  {
   "cell_type": "markdown",
   "metadata": {},
   "source": [
    "Using your river level data from Exercise 2.2 above, create a bar chart with the mean values of each river. Label this chart and include an appropriate legend."
   ]
  },
  {
   "cell_type": "code",
   "execution_count": 26,
   "metadata": {
    "collapsed": true
   },
   "outputs": [],
   "source": [
    "# complete your exercise here"
   ]
  },
  {
   "cell_type": "markdown",
   "metadata": {},
   "source": [
    "### Exercise 3.3"
   ]
  },
  {
   "cell_type": "markdown",
   "metadata": {},
   "source": [
    "Write code that allows a user to enter a set of numbers corresponding to x and y data values and store each of these in a list. Stop the input for this list when the user types ’done’.\n",
    "\n",
    "Produce a scatter plot of the input data. Hint: the pyplot function you need is scatter().  "
   ]
  },
  {
   "cell_type": "code",
   "execution_count": null,
   "metadata": {},
   "outputs": [],
   "source": []
  },
  {
   "cell_type": "markdown",
   "metadata": {},
   "source": [
    "Last updated by UZI on 14/10/2019"
   ]
  }
 ],
 "metadata": {
  "anaconda-cloud": {},
  "kernelspec": {
   "display_name": "Python 2",
   "language": "python",
   "name": "python2"
  },
  "language_info": {
   "codemirror_mode": {
    "name": "ipython",
    "version": 2
   },
   "file_extension": ".py",
   "mimetype": "text/x-python",
   "name": "python",
   "nbconvert_exporter": "python",
   "pygments_lexer": "ipython2",
   "version": "2.7.10"
  }
 },
 "nbformat": 4,
 "nbformat_minor": 1
}
