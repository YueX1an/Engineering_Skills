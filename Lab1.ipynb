{
 "cells": [
  {
   "cell_type": "markdown",
   "metadata": {},
   "source": [
    "# ENG2079 Computer programming: Lab 1 exercises"
   ]
  },
  {
   "cell_type": "markdown",
   "metadata": {},
   "source": [
    "Complete the following exercises during the lab session. You may wish to refer to the notebook that was demonstrated to you during the lecture and which is available online through the ENG2079 moodle page."
   ]
  },
  {
   "cell_type": "markdown",
   "metadata": {},
   "source": [
    "You will need to make sure that you download the file 'ibeam.png' from Moodle which is used in the current notebook. Please place this file in the same directory as the notebook to make sure it displays correctly."
   ]
  },
  {
   "cell_type": "markdown",
   "metadata": {},
   "source": [
    "The basic command that you need to run code in a particular cell is 'shift-enter' (i.e. hold down the shift key and then press enter at the same time)."
   ]
  },
  {
   "cell_type": "markdown",
   "metadata": {},
   "source": [
    "## Section 1: Strings"
   ]
  },
  {
   "cell_type": "markdown",
   "metadata": {},
   "source": [
    "### Exercise 1.1"
   ]
  },
  {
   "cell_type": "markdown",
   "metadata": {},
   "source": [
    "Define three string variables with values 'today', 'is' and 'Friday'. Print out each value.\n",
    "Define a new variable which concatenates (i.e. adds) all three strings and print this out"
   ]
  },
  {
   "cell_type": "code",
   "execution_count": 21,
   "metadata": {},
   "outputs": [
    {
     "name": "stdout",
     "output_type": "stream",
     "text": [
      "today\n",
      "is\n",
      "Friday\n",
      "today is Friday\n"
     ]
    }
   ],
   "source": [
    "# Define three string variables\n",
    "day = 'today'\n",
    "verb = 'is'\n",
    "weekday = 'Friday'\n",
    "\n",
    "# Print out each value\n",
    "print(day)\n",
    "print(verb)\n",
    "print(weekday)\n",
    "\n",
    "# Define a new variable by concatenating the three strings\n",
    "sentence = day + ' ' + verb + ' ' + weekday\n",
    "\n",
    "# Print the concatenated string\n",
    "print(sentence)"
   ]
  },
  {
   "cell_type": "markdown",
   "metadata": {},
   "source": [
    "### Exercise 1.2"
   ]
  },
  {
   "cell_type": "markdown",
   "metadata": {},
   "source": [
    "Define a string variable with some random text. Output the value of this string to the\n",
    "screen in a format such as ’My string value is: [your value here]’. Check the lecture notes\n",
    "for how to do this."
   ]
  },
  {
   "cell_type": "code",
   "execution_count": 22,
   "metadata": {},
   "outputs": [
    {
     "name": "stdout",
     "output_type": "stream",
     "text": [
      "My string value is: Hello, this is some random text.\n"
     ]
    }
   ],
   "source": [
    "# Define a string variable with some random text\n",
    "random_text = \"Hello, this is some random text.\"\n",
    "\n",
    "# Output the value of the string in a specific format\n",
    "print(\"My string value is:\", random_text)"
   ]
  },
  {
   "cell_type": "markdown",
   "metadata": {},
   "source": [
    "### Exercise 1.3"
   ]
  },
  {
   "cell_type": "markdown",
   "metadata": {},
   "source": [
    "Define three strings with whatever text you wish. Output the value of all three strings in\n",
    "single formatted line like e.g. ’The value of my three strings are: [first string], [second\n",
    "string], [third string]’."
   ]
  },
  {
   "cell_type": "code",
   "execution_count": 23,
   "metadata": {},
   "outputs": [
    {
     "name": "stdout",
     "output_type": "stream",
     "text": [
      "The value of my three strings are: Hello, Glasgow, University\n"
     ]
    }
   ],
   "source": [
    "# Define three strings\n",
    "first_string = \"Hello\"\n",
    "second_string = \"Glasgow\"\n",
    "third_string = \"University\"\n",
    "\n",
    "# Output the values of all three strings in a single formatted line\n",
    "print(f\"The value of my three strings are: {first_string}, {second_string}, {third_string}\")"
   ]
  },
  {
   "cell_type": "markdown",
   "metadata": {},
   "source": [
    "## Section 2: Integers"
   ]
  },
  {
   "cell_type": "markdown",
   "metadata": {},
   "source": [
    "### Exercise 2.1"
   ]
  },
  {
   "cell_type": "markdown",
   "metadata": {},
   "source": [
    "Print the output of 10/3 for both the case where the exact answer (i.e. 3.333) is output and also the case where the answer is rounded down the nearest integer."
   ]
  },
  {
   "cell_type": "code",
   "execution_count": 24,
   "metadata": {},
   "outputs": [
    {
     "name": "stdout",
     "output_type": "stream",
     "text": [
      "Exact result: 3.3333333333333335\n",
      "Rounded down result: 3\n"
     ]
    }
   ],
   "source": [
    "# Calculate the exact result (3.333)\n",
    "exact_result = 10 / 3\n",
    "\n",
    "# Calculate the rounded down result to the nearest integer\n",
    "rounded_down_result = int(10 / 3)\n",
    "\n",
    "# Print the results\n",
    "print(\"Exact result:\", exact_result)\n",
    "print(\"Rounded down result:\", rounded_down_result)"
   ]
  },
  {
   "cell_type": "markdown",
   "metadata": {},
   "source": [
    "### Exercise 2.2"
   ]
  },
  {
   "cell_type": "markdown",
   "metadata": {},
   "source": [
    "Print the remainder of the integer division 99/10 using the operator %"
   ]
  },
  {
   "cell_type": "code",
   "execution_count": 25,
   "metadata": {},
   "outputs": [
    {
     "name": "stdout",
     "output_type": "stream",
     "text": [
      "Remainder of 99 divided by 10: 9\n"
     ]
    }
   ],
   "source": [
    "# Perform integer division and print the remainder\n",
    "remainder = 99 % 10\n",
    "print(\"Remainder of 99 divided by 10:\", remainder)"
   ]
  },
  {
   "cell_type": "markdown",
   "metadata": {},
   "source": [
    "### Exercise 2.3"
   ]
  },
  {
   "cell_type": "markdown",
   "metadata": {},
   "source": [
    "You have a lecture hall with 23 rows of seats with 13 seats in each row. Use the\n",
    "% operator to output the number of students who have no seats if we have a class of 312."
   ]
  },
  {
   "cell_type": "code",
   "execution_count": 26,
   "metadata": {},
   "outputs": [
    {
     "name": "stdout",
     "output_type": "stream",
     "text": [
      "Number of students with no seats: 13\n"
     ]
    }
   ],
   "source": [
    "# Define the dimensions of the lecture hall\n",
    "rows = 23\n",
    "seats_per_row = 13\n",
    "\n",
    "# Total number of seats in the lecture hall\n",
    "total_seats = rows * seats_per_row\n",
    "\n",
    "# Number of students in the class\n",
    "total_students = 312\n",
    "\n",
    "# Calculate the number of students who have no seats\n",
    "students_with_no_seats = total_students % total_seats\n",
    "\n",
    "# Output the result\n",
    "print(f\"Number of students with no seats: {students_with_no_seats}\")"
   ]
  },
  {
   "cell_type": "markdown",
   "metadata": {},
   "source": [
    "### Exercise 2.4"
   ]
  },
  {
   "cell_type": "markdown",
   "metadata": {},
   "source": [
    "Now we have a class of 237. With the same number of seats in each row, print the number\n",
    "of full rows and remainder of students in the last remaining row."
   ]
  },
  {
   "cell_type": "code",
   "execution_count": 27,
   "metadata": {},
   "outputs": [
    {
     "name": "stdout",
     "output_type": "stream",
     "text": [
      "Number of full rows: 18\n",
      "Remaining students in the last row: 3\n"
     ]
    }
   ],
   "source": [
    "# Number of students in the class\n",
    "total_students_new = 237\n",
    "\n",
    "# Calculate the number of full rows\n",
    "full_rows = total_students_new // seats_per_row\n",
    "\n",
    "# Calculate the remainder of students in the last remaining row\n",
    "remaining_students = total_students_new % seats_per_row\n",
    "\n",
    "# Output the results\n",
    "print(f\"Number of full rows: {full_rows}\")\n",
    "print(f\"Remaining students in the last row: {remaining_students}\")"
   ]
  },
  {
   "cell_type": "markdown",
   "metadata": {},
   "source": [
    "## Section 3: Floating point numbers"
   ]
  },
  {
   "cell_type": "markdown",
   "metadata": {},
   "source": [
    "### Exercise 3.1"
   ]
  },
  {
   "cell_type": "markdown",
   "metadata": {},
   "source": [
    "Define a variable $x$ with value 1.4142. Print the output of $x^2$ , $x^3$ , $x^{99}$ . Perform the same\n",
    "operations but now with $x = −1.4142$."
   ]
  },
  {
   "cell_type": "code",
   "execution_count": 28,
   "metadata": {},
   "outputs": [
    {
     "name": "stdout",
     "output_type": "stream",
     "text": [
      "x^2: 1.9999616399999998\n",
      "x^3: 2.8283457512879995\n",
      "x^99: 795375955350002.2\n",
      "x^2: 1.9999616399999998\n",
      "x^3: -2.8283457512879995\n",
      "x^99: -795375955350002.2\n"
     ]
    }
   ],
   "source": [
    "# Define the variable x with value 1.4142\n",
    "x = 1.4142\n",
    "\n",
    "# Calculate and print the results for x = 1.4142\n",
    "print(f\"x^2: {x**2}\")\n",
    "print(f\"x^3: {x**3}\")\n",
    "print(f\"x^99: {x**99}\")\n",
    "\n",
    "# Define the variable x with value -1.4142\n",
    "x = -1.4142\n",
    "\n",
    "# Calculate and print the results for x = -1.4142\n",
    "print(f\"x^2: {x**2}\")\n",
    "print(f\"x^3: {x**3}\")\n",
    "print(f\"x^99: {x**99}\")"
   ]
  },
  {
   "cell_type": "markdown",
   "metadata": {},
   "source": [
    "### Exercise 3.2"
   ]
  },
  {
   "cell_type": "markdown",
   "metadata": {},
   "source": [
    "Define two variables b and d representing the breadth and depth of a rectangular cross\n",
    "section and assign random (positive values). Calculate the second moment of area and\n",
    "print the output (remembering $I = \\frac{bd^3}{12}$ for a rectangular section)."
   ]
  },
  {
   "cell_type": "code",
   "execution_count": 29,
   "metadata": {},
   "outputs": [
    {
     "name": "stdout",
     "output_type": "stream",
     "text": [
      "The second moment of area (I) for the rectangular cross section is: 213.33333333333334\n"
     ]
    }
   ],
   "source": [
    "# Assign random positive values to the variables b and d\n",
    "b = 5.0  # replace with your own random positive value\n",
    "d = 8.0  # replace with your own random positive value\n",
    "\n",
    "# Calculate the second moment of area\n",
    "I = (b * d**3) / 12\n",
    "\n",
    "# Print the output\n",
    "print(f\"The second moment of area (I) for the rectangular cross section is: {I}\")"
   ]
  },
  {
   "cell_type": "markdown",
   "metadata": {},
   "source": [
    "### Exercise 3.3"
   ]
  },
  {
   "cell_type": "markdown",
   "metadata": {},
   "source": [
    "Define a variable $r$ with an arbitrary value and a variable pi with the value 3.14159.\n",
    "Calculate the area of a sphere of radius $r$ using these variables. Print this value to the\n",
    "screen in a nice format. (N.B. the area of sphere is given by $4\\pi r^2$ )"
   ]
  },
  {
   "cell_type": "code",
   "execution_count": 30,
   "metadata": {},
   "outputs": [
    {
     "name": "stdout",
     "output_type": "stream",
     "text": [
      "The area of a sphere with radius 2.5 is: 78.53975\n"
     ]
    }
   ],
   "source": [
    "# Define a variable r with an arbitrary value\n",
    "r = 2.5  # replace with your own arbitrary value\n",
    "\n",
    "# Define a variable pi with the value 3.14159\n",
    "pi = 3.14159\n",
    "\n",
    "# Calculate the area of the sphere\n",
    "area_of_sphere = 4 * pi * r**2\n",
    "\n",
    "# Print the result in a nice format\n",
    "print(f\"The area of a sphere with radius {r} is: {area_of_sphere}\")"
   ]
  },
  {
   "cell_type": "markdown",
   "metadata": {},
   "source": [
    "## Section 4: Beam problem"
   ]
  },
  {
   "cell_type": "markdown",
   "metadata": {},
   "source": [
    "I want you to find the maximum bending stress for a simply supported beam with a point load in the middle. The beam is comprised of an I-beam with the following dimensions:"
   ]
  },
  {
   "cell_type": "markdown",
   "metadata": {},
   "source": [
    "### Exercise 4.1"
   ]
  },
  {
   "cell_type": "markdown",
   "metadata": {},
   "source": [
    "<img src='ibeam.png'>"
   ]
  },
  {
   "cell_type": "markdown",
   "metadata": {},
   "source": [
    "Write code that defines variables corresponding to the dimensions of this section and then calculate the second moment of area of the section using these variables. You will need to use the parallel axis theorem."
   ]
  },
  {
   "cell_type": "markdown",
   "metadata": {},
   "source": [
    "Remember, the parallel axis theorem for a rectangular section is given by:"
   ]
  },
  {
   "cell_type": "markdown",
   "metadata": {},
   "source": [
    "$I = \\frac{bd^3}{12} + A y^2$"
   ]
  },
  {
   "cell_type": "markdown",
   "metadata": {},
   "source": [
    "where $A$ is the area of the relevant section and $y$ is the distance of the section from the neutral axis."
   ]
  },
  {
   "cell_type": "code",
   "execution_count": 31,
   "metadata": {},
   "outputs": [
    {
     "name": "stdout",
     "output_type": "stream",
     "text": [
      "Second moment area is: 1432916.667\n"
     ]
    }
   ],
   "source": [
    "def calculate_second_moment_area(b, d, t):\n",
    "    \n",
    "    A = b * t \n",
    "    d_inner = d -  2 * t\n",
    "    y = ((d - t) / 2) **2 \n",
    "    I_middle = t * (d_inner **3) / 12\n",
    "    I_outer = (b * (t **3)) / 12 + A * y\n",
    "    I_total = I_middle + 2 * I_outer\n",
    "    I_total = round(I_total, 3)\n",
    "    return I_total\n",
    "\n",
    "d = 100\n",
    "b = 50\n",
    "t = 5\n",
    "\n",
    "# Calculate the second moment of area\n",
    "second_moment_of_area = calculate_second_moment_area(b, d, t)\n",
    "      \n",
    "print(\"Second moment area is:\", second_moment_of_area)"
   ]
  },
  {
   "cell_type": "markdown",
   "metadata": {},
   "source": [
    "Now calculate the maximum bending stress in the beam using the relationship $\\sigma = \\frac{M y}{I}$ where $\\sigma$ is the bending stress, $M$ is the bending moment, $y$ is the distance from the neutral axis and $I$ is the second moment of area (which you should have already calculated).  "
   ]
  },
  {
   "cell_type": "code",
   "execution_count": 32,
   "metadata": {},
   "outputs": [
    {
     "name": "stdout",
     "output_type": "stream",
     "text": [
      "Maximum bending stress is: 872.347\n"
     ]
    }
   ],
   "source": [
    "def calculate_maximum_bending_stress(b, d, t, w, l):\n",
    "    \n",
    "    # calculate I_total\n",
    "    A = b * t \n",
    "    d_inner = d -  2 * t\n",
    "    y = ((d - t) / 2) **2 \n",
    "    I_middle = t * (d_inner **3) / 12\n",
    "    I_outer = (b * (t **3)) / 12 + A * y\n",
    "    I_total = I_middle + 2 * I_outer\n",
    "\n",
    "    max_y = d / 2\n",
    "    m = (w * l) / 4 * 1000\n",
    "    bend_stress = m * max_y / I_total\n",
    "    bend_stress = round(bend_stress, 3)\n",
    "    \n",
    "    return bend_stress\n",
    "\n",
    "d = 100\n",
    "b = 50\n",
    "t = 5\n",
    "w = 10000\n",
    "l = 10\n",
    "\n",
    "# Calculate the maximum bending stress\n",
    "maximum_bending_stress = calculate_maximum_bending_stress(b, d, t, w, l)\n",
    "\n",
    "print(\"Maximum bending stress is:\", maximum_bending_stress)"
   ]
  },
  {
   "cell_type": "markdown",
   "metadata": {},
   "source": [
    "### Exercise 4.2"
   ]
  },
  {
   "cell_type": "markdown",
   "metadata": {},
   "source": [
    "Perform the same as exercise 4.1, but now use a hollow circular section with a simply supported beam with a uniformly distributed load."
   ]
  },
  {
   "cell_type": "code",
   "execution_count": 20,
   "metadata": {},
   "outputs": [
    {
     "name": "stdout",
     "output_type": "stream",
     "text": [
      "Maximum bending stress for a hollow tube is: 92.559\n"
     ]
    }
   ],
   "source": [
    "import math\n",
    "\n",
    "def calculate_second_moment_area_hollowcircular(d_outer, d_inner, w, l):\n",
    "\n",
    "    I_tube = math.pi * (d_outer **4 - d_inner **4)\n",
    "    m = ((w * l **2) / 8) * 1000\n",
    "    y_max = d_outer \n",
    "    bend_stress = (m * y_max) / I_tube\n",
    "    bend_stress = round(bend_stress, 3)\n",
    "\n",
    "    return bend_stress\n",
    "\n",
    "d_outer = 100\n",
    "d_inner = 90\n",
    "w = 2000\n",
    "l = 20\n",
    "\n",
    "# Calculate the maximum bending stress for a hollow tube\n",
    "maximum_bending_stress = calculate_second_moment_area_hollowcircular(d_outer, d_inner, w, l)\n",
    "\n",
    "print(\"Maximum bending stress for a hollow tube is:\", maximum_bending_stress)"
   ]
  }
 ],
 "metadata": {
  "anaconda-cloud": {},
  "kernelspec": {
   "display_name": "Python 3",
   "language": "python",
   "name": "python3"
  },
  "language_info": {
   "codemirror_mode": {
    "name": "ipython",
    "version": 3
   },
   "file_extension": ".py",
   "mimetype": "text/x-python",
   "name": "python",
   "nbconvert_exporter": "python",
   "pygments_lexer": "ipython3",
   "version": "3.11.2"
  }
 },
 "nbformat": 4,
 "nbformat_minor": 1
}
