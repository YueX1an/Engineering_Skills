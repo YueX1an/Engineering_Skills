{
 "cells": [
  {
   "cell_type": "markdown",
   "metadata": {},
   "source": [
    "### ENG2079/ENG5322: Computer programming class test"
   ]
  },
  {
   "cell_type": "markdown",
   "metadata": {},
   "source": [
    "Provide your answers to the three questions below:"
   ]
  },
  {
   "cell_type": "markdown",
   "metadata": {},
   "source": [
    "## Question 1"
   ]
  },
  {
   "cell_type": "code",
   "execution_count": 100,
   "metadata": {
    "tags": []
   },
   "outputs": [
    {
     "name": "stdin",
     "output_type": "stream",
     "text": [
      "please enter the requested material name -->  matD\n"
     ]
    },
    {
     "name": "stdout",
     "output_type": "stream",
     "text": [
      "The min readings for the material is: 13.4\n",
      "{'matA': [102.39, 194.7, 215.2, 200.5, 197.3, 205.3], 'matB': [73.4, 71.2, 68.5, 75.8, 66.9], 'matC': [23.4, 34.5, 23.5, 56.7, 45.6, 27.5, 56.5, 45.5, 47.9], 'matD': [110.4, 103.5, 129.4, 115.4, 123.2, 110.2]}\n"
     ]
    },
    {
     "name": "stdin",
     "output_type": "stream",
     "text": [
      "Enter the new material name -->  matE\n",
      "Please enter material reading -->  56\n",
      "Please enter material reading -->  98\n",
      "Please enter material reading -->  37\n",
      "Please enter material reading -->  stop\n"
     ]
    },
    {
     "name": "stdout",
     "output_type": "stream",
     "text": [
      "{'matA': [102.39, 194.7, 215.2, 200.5, 197.3, 205.3], 'matB': [73.4, 71.2, 68.5, 75.8, 66.9], 'matC': [23.4, 34.5, 23.5, 56.7, 45.6, 27.5, 56.5, 45.5, 47.9], 'matD': [110.4, 103.5, 129.4, 115.4, 123.2, 110.2], 'matE': [56.0, 98.0, 37.0]}\n"
     ]
    },
    {
     "data": {
      "image/png": "[encoded data removed]",
      "text/plain": [
       "<Figure size 432x288 with 1 Axes>"
      ]
     },
     "metadata": {
      "needs_background": "light"
     },
     "output_type": "display_data"
    }
   ],
   "source": [
    "import numpy as np\n",
    "import matplotlib.pyplot as ppt\n",
    "\n",
    "# dictionary of different materials\n",
    "mat_data = { 'matA' : [102.39, 21.34, 194.7, 215.2, 200.5, 197.3, 205.3],\n",
    "            'matB' : [65.5, 73.4, 71.2, 68.5, 75.8, 66.9],\n",
    "            'matC' : [23.4, 34.5, 23.5, 56.7, 12.3, 45.6, 27.5, 56.5, 45.5, 47.9],\n",
    "            'matD' : [110.4, 103.5, 129.4, 115.4, 123.2, 110.2, 13.4]}\n",
    "\n",
    "input_mat = input('please enter the requested material name --> ')\n",
    "\n",
    "if input_mat in mat_data:\n",
    "    mat_list = mat_data[input_mat]\n",
    "    mat_min = np.min(mat_list)\n",
    "    \n",
    "    print('The min readings for the material is: {}'.format(mat_min))\n",
    "else:\n",
    "    print('Material name does not exist')\n",
    "    \n",
    "# Remove all the minimum values from the list\n",
    "for key, values in mat_data.items():\n",
    "    min_value = min(values)\n",
    "    mat_data[key] = [value for value in values if value > min_value]\n",
    "\n",
    "# Output the modified dictionary\n",
    "print(mat_data)\n",
    "\n",
    "# Second dictionary \n",
    "mat_data2 = mat_data\n",
    "new_mat = input('Enter the new material name --> ')\n",
    "new_data = []    \n",
    "while True:\n",
    "    reading = input('Please enter material reading --> ')\n",
    "    if reading == 'stop':  \n",
    "        break    # if the user types 'stop' we exit the loop\n",
    "    float_reading = float(reading)\n",
    "    new_data.append(float_reading)  # add the value to the list\n",
    "    \n",
    "mat_data2[new_mat] = new_data\n",
    "print(mat_data2)\n",
    "\n",
    "# plot a Bar chart for this dictionary\n",
    "fig, ax = ppt.subplots()\n",
    "for key, values in mat_data.items():\n",
    "    ax.bar(key, np.mean(values), label=key)\n",
    "\n",
    "ax.set_xlabel('Materials')\n",
    "ax.set_ylabel('Mean Values')\n",
    "ax.set_title('Mean Values for Each Material')\n",
    "ax.legend()\n",
    "ppt.show()"
   ]
  },
  {
   "cell_type": "markdown",
   "metadata": {},
   "source": [
    "## Question 2"
   ]
  },
  {
   "cell_type": "code",
   "execution_count": 98,
   "metadata": {
    "tags": []
   },
   "outputs": [
    {
     "name": "stdin",
     "output_type": "stream",
     "text": [
      "Enter value for x:  2\n"
     ]
    },
    {
     "name": "stdout",
     "output_type": "stream",
     "text": [
      "The square1 of x is 8\n"
     ]
    },
    {
     "name": "stdin",
     "output_type": "stream",
     "text": [
      "Enter value for y:  3\n"
     ]
    },
    {
     "name": "stdout",
     "output_type": "stream",
     "text": [
      "The product of x and y is 0.6666666666666666\n",
      "The difference is 1\n",
      "1 2 4\n",
      "2 3 5\n",
      "3 4 6\n",
      "Mat is 43 years old.\n"
     ]
    },
    {
     "name": "stdin",
     "output_type": "stream",
     "text": [
      "Enter the value of n:  4\n"
     ]
    },
    {
     "name": "stdout",
     "output_type": "stream",
     "text": [
      "11\n",
      "2*2\n",
      "3**3\n",
      "4***4\n",
      "3**3\n",
      "2*2\n",
      "11\n",
      "22\n",
      "-two-\n",
      "33\n",
      "-three-\n",
      "44\n"
     ]
    }
   ],
   "source": [
    "# Fix program\n",
    "x = int(input('Enter value for x: '))\n",
    "print('The square1 of x is {}'.format(x*x*x))\n",
    "y = int(input('Enter value for y: '))\n",
    "print('The product of x and y is', x/y)\n",
    "\n",
    "if x > y:\n",
    "    print('The difference is', x - y)\n",
    "else:\n",
    "    print('The difference is', y - x)\n",
    "\n",
    "x = [1, 2, 3]\n",
    "y = [2, 3, 4]\n",
    "z = [4, 5, 6]\n",
    "\n",
    "for i, j, k in zip(x, y, z):\n",
    "    print(i, j, k)\n",
    "    \n",
    "string_length = len('hello')  \n",
    "\n",
    "ages = {\n",
    "    'Phillip': 24,\n",
    "    'Johny': 24,\n",
    "    'Mat': 43\n",
    "}\n",
    "print(f'Mat is {ages[\"Mat\"]} years old.') \n",
    "\n",
    "\n",
    "\n",
    "# Draw the 'asteriks with numbers'\n",
    "n = int(input('Enter the value of n: '))\n",
    "\n",
    "for i in range(1, n + 1):\n",
    "    print(f\"{i}\" + \"*\" * (i - 1) + f\"{i}\")\n",
    "\n",
    "for i in range(n - 1, 0, -1):\n",
    "    print(f\"{i}\" + \"*\" * (i - 1) + f\"{i}\")\n",
    "\n",
    "# isdigit() application\n",
    "mylist = ['2', 'two', '3', 'three', '4', 'four']\n",
    "\n",
    "for i in range(0, 5):\n",
    "    if mylist[i].isdigit() == True:\n",
    "        print('{}{}'.format(mylist[i], mylist[i]))\n",
    "    else:\n",
    "        print('-{}-'.format(mylist[i]))\n",
    "\n",
    "   \n"
   ]
  },
  {
   "cell_type": "markdown",
   "metadata": {},
   "source": [
    "## Question 3\n"
   ]
  },
  {
   "cell_type": "code",
   "execution_count": 102,
   "metadata": {
    "tags": []
   },
   "outputs": [
    {
     "name": "stdout",
     "output_type": "stream",
     "text": [
      "Final dictionary (sorted by salary):\n",
      "{'Anna': [10000, 'SOCIOLOGY'], 'Fred': [11000, 'SOCIOLOGY'], 'Chris': [25000, 'ENGINEERING'], 'Liz': [36000, 'MEDICINE'], 'Sven': [45000, 'ENGINEERING']}\n",
      "Total salary for ENGINEERING: 70000\n",
      "Total salary for MEDICINE: 36000\n",
      "Total salary for SOCIOLOGY: 21000\n"
     ]
    }
   ],
   "source": [
    "# Create a dictionary to fill the information of the lectures\n",
    "\"\"\"\n",
    "data = {}\n",
    "\n",
    "while True:\n",
    "    name = input(\"Enter a name (type 'stop' to finish): \")\n",
    "    \n",
    "    if name.lower() == 'stop':\n",
    "        break\n",
    "    \n",
    "    salary = int(input(\"Enter salary: \"))\n",
    "    field = input(\"Enter field of study: \")\n",
    "    \n",
    "    data[name] = [salary, field]\n",
    "\n",
    "print(\"Final dictionary:\")\n",
    "print(data)\n",
    "\"\"\"\n",
    "\n",
    "data = {'Chris':[25000,'ENGINEERING'], 'Liz':[36000,'MEDICINE'],\n",
    "        'Fred':[11000,'SOCIOLOGY'],\n",
    "         'Anna':[10000,'SOCIOLOGY'],'Sven':[45000,'ENGINEERING']} \n",
    "\n",
    "\n",
    "# Sort the dictionary by salary in descending order\n",
    "sorted_data = dict(sorted(data.items(), key=lambda x: x[1][0], reverse=False))\n",
    "\n",
    "print(\"Final dictionary (sorted by salary):\")\n",
    "print(sorted_data)\n",
    "\n",
    "# Print the total salary of each department\n",
    "department_salaries = {}\n",
    "\n",
    "for employee, (salary, department) in data.items():\n",
    "    if department in department_salaries:\n",
    "        department_salaries[department] += salary\n",
    "    else:\n",
    "        department_salaries[department] = salary\n",
    "\n",
    "for department, total_salary in department_salaries.items():\n",
    "    print(f'Total salary for {department}: {total_salary}')\n",
    "\n",
    "\n",
    "\n"
   ]
  },
  {
   "cell_type": "code",
   "execution_count": null,
   "metadata": {},
   "outputs": [],
   "source": []
  }
 ],
 "metadata": {
  "kernelspec": {
   "display_name": "anaconda-2022.05-py39",
   "language": "python",
   "name": "conda-env-anaconda-2022.05-py39-py"
  },
  "language_info": {
   "codemirror_mode": {
    "name": "ipython",
    "version": 3
   },
   "file_extension": ".py",
   "mimetype": "text/x-python",
   "name": "python",
   "nbconvert_exporter": "python",
   "pygments_lexer": "ipython3",
   "version": "3.9.12"
  }
 },
 "nbformat": 4,
 "nbformat_minor": 4
}
