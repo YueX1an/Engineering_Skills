{
 "cells": [
  {
   "cell_type": "markdown",
   "metadata": {},
   "source": [
    "# Introduction to computer programming: Lab 3"
   ]
  },
  {
   "cell_type": "code",
   "execution_count": 43,
   "metadata": {
    "collapsed": true
   },
   "outputs": [],
   "source": [
    "import numpy as np\n",
    "import matplotlib.pyplot as ppt"
   ]
  },
  {
   "cell_type": "markdown",
   "metadata": {},
   "source": [
    "## File I/O"
   ]
  },
  {
   "cell_type": "markdown",
   "metadata": {},
   "source": [
    "### Exercise 1.1"
   ]
  },
  {
   "cell_type": "markdown",
   "metadata": {},
   "source": [
    "Write the integers 0 to 100,000 to a file called 'myintegers.txt'."
   ]
  },
  {
   "cell_type": "code",
   "execution_count": 44,
   "metadata": {},
   "outputs": [],
   "source": [
    "filename = 'myintegers.txt'\n",
    "\n",
    "file = open(filename, 'w')\n",
    "\n",
    "n = 100000 # another way of writing 100 million\n",
    "\n",
    "for i in range(0,n + 1):  # remember to go one past n\n",
    "    file.write(str(i))\n",
    "    file.write('\\n')\n",
    "\n",
    "file.close()"
   ]
  },
  {
   "cell_type": "markdown",
   "metadata": {},
   "source": [
    "### Exercise 1.2"
   ]
  },
  {
   "cell_type": "markdown",
   "metadata": {},
   "source": [
    "Now write the integers from 100,000 to 0 to the same file appending the data to the end."
   ]
  },
  {
   "cell_type": "code",
   "execution_count": 45,
   "metadata": {},
   "outputs": [],
   "source": [
    "filename = 'myintegers.txt'\n",
    "\n",
    "file = open(filename, 'a')\n",
    "\n",
    "n = 100000 # another way of writing 100 million\n",
    "\n",
    "for i in range(n, -1, -1):  \n",
    "    file.write(str(i))\n",
    "    file.write('\\n')\n",
    "\n",
    "file.close()"
   ]
  },
  {
   "cell_type": "markdown",
   "metadata": {},
   "source": [
    "### Exercise 2.1"
   ]
  },
  {
   "cell_type": "markdown",
   "metadata": {},
   "source": [
    "I have provided you with a file ('beam_data.txt') that provides input data for some simple beam analysis. You can assume the beam is simply supported with a u.d.l. imposed and consist of a solid rectangular section. The order of the data is:\n",
    "* the length L (m) of the beam\n",
    "* the imposed u.d.l. (kN/m)\n",
    "* the breadth b of the beam (m)\n",
    "* the depth d of the beam (m)\n",
    "* Young's Modulus for the section (N/m2)\n",
    "* the yield stress (N/m2)"
   ]
  },
  {
   "cell_type": "markdown",
   "metadata": {},
   "source": [
    "Read the data in from the file and set appropriate variables equal to the length, udl etc."
   ]
  },
  {
   "cell_type": "code",
   "execution_count": 46,
   "metadata": {},
   "outputs": [
    {
     "name": "stdout",
     "output_type": "stream",
     "text": [
      "L=12.0m, udl=2000.0N/m, b=0.15m, d=0.2m, E=200000000000.0Pa, sigma_y = 220000000.0Pa\n"
     ]
    }
   ],
   "source": [
    "filename = 'beam_data.txt'\n",
    "\n",
    "beamfile = open(filename, 'r')\n",
    "\n",
    "mydata = []\n",
    "\n",
    "for line in beamfile:\n",
    "    mydata.append(float(line))\n",
    "\n",
    "L = mydata[0]\n",
    "w = mydata[1] * 1e3\n",
    "b = mydata[2]\n",
    "d = mydata[3]\n",
    "E = mydata[4]\n",
    "sigma_y = mydata[5]\n",
    "\n",
    "print('L={}m, udl={}N/m, b={}m, d={}m, E={}Pa, sigma_y = {}Pa'.format(L, w, b, d, E, sigma_y))\n",
    "\n",
    "beamfile.close()"
   ]
  },
  {
   "cell_type": "markdown",
   "metadata": {},
   "source": [
    "### Exercise 2.2"
   ]
  },
  {
   "cell_type": "markdown",
   "metadata": {},
   "source": [
    "Now write some code that plots the bending moment diagram of the beam for the inputs given by the file. "
   ]
  },
  {
   "cell_type": "code",
   "execution_count": 47,
   "metadata": {},
   "outputs": [
    {
     "data": {
      "image/png": "[encoded data removed]",
      "text/plain": [
       "<matplotlib.figure.Figure at 0x11c45ba58>"
      ]
     },
     "metadata": {},
     "output_type": "display_data"
    }
   ],
   "source": [
    "def bendingMoment(x):\n",
    "    return w * L / 2 * x - w * x * x * 0.5\n",
    "\n",
    "xvals = np.arange(0.0, L, 0.1)\n",
    "yvals = bendingMoment(xvals)\n",
    "\n",
    "ppt.plot(xvals, yvals)\n",
    "ppt.gca().invert_yaxis()   # Some nifty code to reverse the y-axis\n",
    "ppt.xlabel('x(m)')\n",
    "ppt.ylabel('BM(Nm)')\n",
    "ppt.show()"
   ]
  },
  {
   "cell_type": "markdown",
   "metadata": {},
   "source": [
    "### Exercise 2.3"
   ]
  },
  {
   "cell_type": "markdown",
   "metadata": {},
   "source": [
    "Now write some code the outputs the maximum bending stress in the beam and outputs whether the beam has yielded or not."
   ]
  },
  {
   "cell_type": "code",
   "execution_count": 48,
   "metadata": {},
   "outputs": [
    {
     "name": "stdout",
     "output_type": "stream",
     "text": [
      "The maximum bending stress is 36.00MPa\n",
      "Beam has not yielded\n"
     ]
    }
   ],
   "source": [
    "I = b * d**3 / 12.0 # The second moment of area. This is a constant and hence not an function input\n",
    "\n",
    "def bendingStress(M,y):\n",
    "    return M*y / I\n",
    "\n",
    "xvals = np.arange(0.0, L, 0.01)\n",
    "bm_vals = bendingMoment(xvals)\n",
    "stress_vals = bendingStress(bm_vals, d * 0.5)   # Compute bending stresses along the beam for the outermost fibre (y=d/2)\n",
    "\n",
    "maxstress = np.max(stress_vals)\n",
    "print('The maximum bending stress is {:.2f}MPa'.format(maxstress / 1.0e6))\n",
    "\n",
    "if maxstress < sigma_y:\n",
    "    print('Beam has not yielded')\n",
    "else:\n",
    "    print('Beam has yielded')"
   ]
  },
  {
   "cell_type": "markdown",
   "metadata": {},
   "source": [
    "### Exercise 3.1"
   ]
  },
  {
   "cell_type": "markdown",
   "metadata": {},
   "source": [
    "Write a 10x10 matrix of random values. You can try and use the np.random.rand() function if you wish.  Add one to the top left and bottom right entries and the compute the inverse (making sure to check this is correct)."
   ]
  },
  {
   "cell_type": "code",
   "execution_count": 49,
   "metadata": {},
   "outputs": [
    {
     "name": "stdout",
     "output_type": "stream",
     "text": [
      "[[ -2.68060362   6.93409595  -5.91144512   8.69185489  -1.06651518\n",
      "   -1.8325246   -2.16619423   1.4370456   -0.66449298   1.50152539]\n",
      " [ -0.70177127   0.8623604    1.42699384  -1.42196011  -0.41274888\n",
      "    0.34180417  -0.40843678   0.87678336  -0.04191076  -0.68307822]\n",
      " [ -0.16483338  -0.51462041   0.68412651  -1.88047841  -0.95499247\n",
      "    1.57866382   0.24533172   0.68523789   0.69961154  -0.72370621]\n",
      " [  3.23737465  -6.14541187   4.11835862  -6.46075915   2.59268928\n",
      "   -0.70703085   0.78064398  -0.31899198   0.13509781  -0.14685175]\n",
      " [  1.89313252  -3.54670089   4.40321912  -6.26574747   0.44737963\n",
      "   -0.01398751   0.57199355  -0.68849778   1.70816403  -0.84242331]\n",
      " [  1.0528636   -0.84413858   1.18897036  -1.39818608   0.29217093\n",
      "    0.60439119   0.34261579  -1.26568904   0.27790697  -0.75594402]\n",
      " [  1.25760346  -5.089154     4.81490718  -6.15698238   0.06283097\n",
      "    1.73372053   0.57202571  -0.23059677   0.98200334  -0.75319229]\n",
      " [  1.68619797  -5.51248228   4.77202265  -6.05833783  -0.61237939\n",
      "    2.36581277   2.24324924  -0.86506971   0.44751426  -1.4413812 ]\n",
      " [ -2.97938067   6.14596414  -8.13830964  10.9795483    0.28761295\n",
      "   -1.89385903  -0.40519595   0.1994939   -1.21875581   1.83102316]\n",
      " [ -2.10253497   6.21517492  -5.44562444   7.74364596  -0.52226743\n",
      "   -1.48785916  -1.2345784    0.27752645  -1.32742371   1.6162141 ]]\n"
     ]
    }
   ],
   "source": [
    "A = np.random.rand(10,10)\n",
    "A[0,0] += 1\n",
    "A[9,9] += 1\n",
    "\n",
    "A_inv = np.linalg.inv(A)\n",
    "print(A_inv)"
   ]
  },
  {
   "cell_type": "markdown",
   "metadata": {},
   "source": [
    "### Exercise 3.2"
   ]
  },
  {
   "cell_type": "markdown",
   "metadata": {},
   "source": [
    "Using the matrix you defined above, create a column vector of size 10 and populate this with random value. Assuming the matrix is called $\\mathbf{A}$ and the newly created column vector is $\\mathbf{b}$, solve $\\mathbf{Ax = b}$"
   ]
  },
  {
   "cell_type": "code",
   "execution_count": 50,
   "metadata": {},
   "outputs": [
    {
     "name": "stdout",
     "output_type": "stream",
     "text": [
      "[[ 0.22043502]\n",
      " [ 0.82220447]\n",
      " [ 0.35060093]\n",
      " [ 0.9778733 ]\n",
      " [ 0.804576  ]\n",
      " [ 0.40045658]\n",
      " [ 0.87286279]\n",
      " [ 0.87042323]\n",
      " [ 0.803972  ]\n",
      " [ 0.89648393]]\n",
      "[[ 0.22043502]\n",
      " [ 0.82220447]\n",
      " [ 0.35060093]\n",
      " [ 0.9778733 ]\n",
      " [ 0.804576  ]\n",
      " [ 0.40045658]\n",
      " [ 0.87286279]\n",
      " [ 0.87042323]\n",
      " [ 0.803972  ]\n",
      " [ 0.89648393]]\n"
     ]
    }
   ],
   "source": [
    "b = np.random.rand(10,1)\n",
    "print(b)\n",
    "\n",
    "x = np.linalg.solve(A,b)\n",
    "\n",
    "# YOu need to note that the random.rand() function generates a numpy array, not a matrix. To convert it, do this....\n",
    "Amatrix = np.matrix(A)\n",
    "print(Amatrix * x)"
   ]
  },
  {
   "cell_type": "markdown",
   "metadata": {},
   "source": [
    "### Exercise 4.1"
   ]
  },
  {
   "cell_type": "markdown",
   "metadata": {},
   "source": [
    "The function $a(t) = e^{-0.1t}\\sin(2t)$ determines the acceleration of a structure where t is the time in seconds. Plot the behaviour of this structure up to t=100s and also produce a file output of the acceleration data with a sensible step size.  "
   ]
  },
  {
   "cell_type": "code",
   "execution_count": 51,
   "metadata": {},
   "outputs": [
    {
     "data": {
      "image/png": "[encoded data removed]",
      "text/plain": [
       "<matplotlib.figure.Figure at 0x11c4e8da0>"
      ]
     },
     "metadata": {},
     "output_type": "display_data"
    }
   ],
   "source": [
    "def acceleration(t):\n",
    "    return np.exp(-0.1 * t) * np.sin(2.0 * t)\n",
    "\n",
    "stepsize = 0.1\n",
    "xvals = np.arange(0.0, 100.0, stepsize)\n",
    "yvals = acceleration(xvals)\n",
    "\n",
    "ppt.plot(xvals, yvals, 'b-')\n",
    "ppt.show()\n",
    "\n",
    "filename = 'acceleration.txt'\n",
    "file = open(filename, 'w')\n",
    "\n",
    "for val in yvals:\n",
    "    file.write(str(val))\n",
    "    file.write('\\n')\n",
    "    \n",
    "file.close()\n"
   ]
  },
  {
   "cell_type": "markdown",
   "metadata": {},
   "source": [
    "### Exercise 4.2 (difficult)"
   ]
  },
  {
   "cell_type": "markdown",
   "metadata": {},
   "source": [
    "Using the same function as in exercise 4.1, determine the values of t at which the **magnitude** of the acceleration is greater than 0.25. "
   ]
  },
  {
   "cell_type": "code",
   "execution_count": 52,
   "metadata": {},
   "outputs": [
    {
     "name": "stdout",
     "output_type": "stream",
     "text": [
      "[0.20000000000000001, 0.30000000000000004, 0.40000000000000002, 0.5, 0.60000000000000009, 0.70000000000000007, 0.80000000000000004, 0.90000000000000002, 1.0, 1.1000000000000001, 1.2000000000000002, 1.3, 1.4000000000000001, 1.8, 1.9000000000000001, 2.0, 2.1000000000000001, 2.2000000000000002, 2.3000000000000003, 2.4000000000000004, 2.5, 2.6000000000000001, 2.7000000000000002, 2.8000000000000003, 2.9000000000000004, 3.4000000000000004, 3.5, 3.6000000000000001, 3.7000000000000002, 3.8000000000000003, 3.9000000000000004, 4.0, 4.1000000000000005, 4.2000000000000002, 4.2999999999999998, 4.4000000000000004, 4.5, 5.0, 5.1000000000000005, 5.2000000000000002, 5.3000000000000007, 5.4000000000000004, 5.5, 5.6000000000000005, 5.7000000000000002, 5.8000000000000007, 5.9000000000000004, 6.0, 6.6000000000000005, 6.7000000000000002, 6.8000000000000007, 6.9000000000000004, 7.0, 7.1000000000000005, 7.2000000000000002, 7.3000000000000007, 7.4000000000000004, 7.5, 8.2000000000000011, 8.3000000000000007, 8.4000000000000004, 8.5, 8.5999999999999996, 8.7000000000000011, 8.8000000000000007, 8.9000000000000004, 9.0, 9.8000000000000007, 9.9000000000000004, 10.0, 10.100000000000001, 10.200000000000001, 10.300000000000001, 10.4, 10.5, 11.5, 11.600000000000001, 11.700000000000001, 11.800000000000001, 11.9, 12.0, 13.200000000000001, 13.300000000000001, 13.4]\n"
     ]
    }
   ],
   "source": [
    "# Let's use a small step size to be more accurate\n",
    "stepsize = 0.1\n",
    "\n",
    "time_vals = np.arange(0.0, 100.0, stepsize)  # Time values between 0 to 100\n",
    "acc_vals = acceleration(xvals)                # Associated accelerations\n",
    "\n",
    "max_acc = 0.25\n",
    "\n",
    "# list of time values at which acceleration is greater than 0.25\n",
    "time_list = []\n",
    "\n",
    "for t,a in zip(time_vals, acc_vals):\n",
    "    \n",
    "    if abs(a) >= max_acc:\n",
    "        time_list.append(t)\n",
    "    \n",
    "print(time_list)\n"
   ]
  },
  {
   "cell_type": "code",
   "execution_count": null,
   "metadata": {
    "collapsed": true
   },
   "outputs": [],
   "source": []
  }
 ],
 "metadata": {
  "kernelspec": {
   "display_name": "Python 3",
   "language": "python",
   "name": "python3"
  },
  "language_info": {
   "codemirror_mode": {
    "name": "ipython",
    "version": 3
   },
   "file_extension": ".py",
   "mimetype": "text/x-python",
   "name": "python",
   "nbconvert_exporter": "python",
   "pygments_lexer": "ipython3",
   "version": "3.8.8"
  }
 },
 "nbformat": 4,
 "nbformat_minor": 2
}
